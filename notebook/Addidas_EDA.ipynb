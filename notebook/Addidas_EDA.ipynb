{
 "cells": [
  {
   "cell_type": "markdown",
   "id": "e20cc28a",
   "metadata": {},
   "source": [
    "### Exploratory Data Analysis for Addidas USA sales data"
   ]
  },
  {
   "cell_type": "markdown",
   "id": "ee3b88ed",
   "metadata": {},
   "source": [
    "### 2) Data Collection\n",
    "- The data consists of 17 column and 9648 rows."
   ]
  },
  {
   "cell_type": "markdown",
   "id": "615db71e",
   "metadata": {},
   "source": [
    "### 2.1 Import Data and Required Packages\n",
    "####  Importing Pandas, Numpy, Matplotlib, Seaborn and Warings Library."
   ]
  },
  {
   "cell_type": "code",
   "execution_count": 42,
   "id": "93765eca",
   "metadata": {},
   "outputs": [],
   "source": [
    "import numpy as np\n",
    "import pandas as pd\n",
    "import seaborn as sns\n",
    "import matplotlib.pyplot as plt\n",
    "%matplotlib inline\n",
    "import warnings\n",
    "warnings.filterwarnings('ignore')"
   ]
  },
  {
   "cell_type": "markdown",
   "id": "237c9c8b",
   "metadata": {},
   "source": [
    "#### Import the CSV Data as Pandas DataFrame"
   ]
  },
  {
   "cell_type": "code",
   "execution_count": 43,
   "id": "c38a5004",
   "metadata": {},
   "outputs": [],
   "source": [
    "df = pd.read_csv('Addidas_dataset/Adidas US Sales Datasets.csv')"
   ]
  },
  {
   "cell_type": "markdown",
   "id": "d2f4120d",
   "metadata": {},
   "source": [
    "#### Show Top 5 Records"
   ]
  },
  {
   "cell_type": "code",
   "execution_count": 44,
   "id": "5a4c0897",
   "metadata": {},
   "outputs": [
    {
     "data": {
      "text/html": [
       "<div>\n",
       "<style scoped>\n",
       "    .dataframe tbody tr th:only-of-type {\n",
       "        vertical-align: middle;\n",
       "    }\n",
       "\n",
       "    .dataframe tbody tr th {\n",
       "        vertical-align: top;\n",
       "    }\n",
       "\n",
       "    .dataframe thead th {\n",
       "        text-align: right;\n",
       "    }\n",
       "</style>\n",
       "<table border=\"1\" class=\"dataframe\">\n",
       "  <thead>\n",
       "    <tr style=\"text-align: right;\">\n",
       "      <th></th>\n",
       "      <th>Retailer</th>\n",
       "      <th>Retailer ID</th>\n",
       "      <th>Invoice Date</th>\n",
       "      <th>Region</th>\n",
       "      <th>State</th>\n",
       "      <th>City</th>\n",
       "      <th>Product</th>\n",
       "      <th>Price per Unit</th>\n",
       "      <th>Units Sold</th>\n",
       "      <th>Total Sales</th>\n",
       "      <th>Operating Profit</th>\n",
       "      <th>Operating Margin</th>\n",
       "      <th>Sales Method</th>\n",
       "      <th>Sales person</th>\n",
       "      <th>Campaign</th>\n",
       "      <th>Category</th>\n",
       "      <th>Segment</th>\n",
       "    </tr>\n",
       "  </thead>\n",
       "  <tbody>\n",
       "    <tr>\n",
       "      <th>0</th>\n",
       "      <td>Foot Locker</td>\n",
       "      <td>1185732</td>\n",
       "      <td>1/1/2020</td>\n",
       "      <td>Northeast</td>\n",
       "      <td>New York</td>\n",
       "      <td>New York</td>\n",
       "      <td>Men's Street Footwear</td>\n",
       "      <td>$50.00</td>\n",
       "      <td>1,200</td>\n",
       "      <td>$600,000</td>\n",
       "      <td>$300,000</td>\n",
       "      <td>50%</td>\n",
       "      <td>In-store</td>\n",
       "      <td>Dennison Crosswaite</td>\n",
       "      <td>21</td>\n",
       "      <td>Rural</td>\n",
       "      <td>Moderation</td>\n",
       "    </tr>\n",
       "    <tr>\n",
       "      <th>1</th>\n",
       "      <td>Foot Locker</td>\n",
       "      <td>1185732</td>\n",
       "      <td>1/2/2020</td>\n",
       "      <td>Northeast</td>\n",
       "      <td>New York</td>\n",
       "      <td>New York</td>\n",
       "      <td>Men's Athletic Footwear</td>\n",
       "      <td>$50.00</td>\n",
       "      <td>1,000</td>\n",
       "      <td>$500,000</td>\n",
       "      <td>$150,000</td>\n",
       "      <td>30%</td>\n",
       "      <td>In-store</td>\n",
       "      <td>Husein Augar</td>\n",
       "      <td>17</td>\n",
       "      <td>Rural</td>\n",
       "      <td>Convenience</td>\n",
       "    </tr>\n",
       "    <tr>\n",
       "      <th>2</th>\n",
       "      <td>Foot Locker</td>\n",
       "      <td>1185732</td>\n",
       "      <td>1/3/2020</td>\n",
       "      <td>Northeast</td>\n",
       "      <td>New York</td>\n",
       "      <td>New York</td>\n",
       "      <td>Women's Street Footwear</td>\n",
       "      <td>$40.00</td>\n",
       "      <td>1,000</td>\n",
       "      <td>$400,000</td>\n",
       "      <td>$140,000</td>\n",
       "      <td>35%</td>\n",
       "      <td>In-store</td>\n",
       "      <td>Oby Sorrel</td>\n",
       "      <td>1</td>\n",
       "      <td>Mix</td>\n",
       "      <td>All Season</td>\n",
       "    </tr>\n",
       "    <tr>\n",
       "      <th>3</th>\n",
       "      <td>Foot Locker</td>\n",
       "      <td>1185732</td>\n",
       "      <td>1/4/2020</td>\n",
       "      <td>Northeast</td>\n",
       "      <td>New York</td>\n",
       "      <td>New York</td>\n",
       "      <td>Women's Athletic Footwear</td>\n",
       "      <td>$45.00</td>\n",
       "      <td>850</td>\n",
       "      <td>$382,500</td>\n",
       "      <td>$133,875</td>\n",
       "      <td>35%</td>\n",
       "      <td>In-store</td>\n",
       "      <td>Dennison Crosswaite</td>\n",
       "      <td>18</td>\n",
       "      <td>Youth</td>\n",
       "      <td>Accessory</td>\n",
       "    </tr>\n",
       "    <tr>\n",
       "      <th>4</th>\n",
       "      <td>Foot Locker</td>\n",
       "      <td>1185732</td>\n",
       "      <td>1/5/2020</td>\n",
       "      <td>Northeast</td>\n",
       "      <td>New York</td>\n",
       "      <td>New York</td>\n",
       "      <td>Men's Apparel</td>\n",
       "      <td>$60.00</td>\n",
       "      <td>900</td>\n",
       "      <td>$540,000</td>\n",
       "      <td>$162,000</td>\n",
       "      <td>30%</td>\n",
       "      <td>In-store</td>\n",
       "      <td>Curtice Advani</td>\n",
       "      <td>8</td>\n",
       "      <td>Urban</td>\n",
       "      <td>Select</td>\n",
       "    </tr>\n",
       "  </tbody>\n",
       "</table>\n",
       "</div>"
      ],
      "text/plain": [
       "      Retailer  Retailer ID Invoice Date     Region     State      City  \\\n",
       "0  Foot Locker      1185732     1/1/2020  Northeast  New York  New York   \n",
       "1  Foot Locker      1185732     1/2/2020  Northeast  New York  New York   \n",
       "2  Foot Locker      1185732     1/3/2020  Northeast  New York  New York   \n",
       "3  Foot Locker      1185732     1/4/2020  Northeast  New York  New York   \n",
       "4  Foot Locker      1185732     1/5/2020  Northeast  New York  New York   \n",
       "\n",
       "                     Product Price per Unit Units Sold Total Sales  \\\n",
       "0      Men's Street Footwear        $50.00       1,200   $600,000    \n",
       "1    Men's Athletic Footwear        $50.00       1,000   $500,000    \n",
       "2    Women's Street Footwear        $40.00       1,000   $400,000    \n",
       "3  Women's Athletic Footwear        $45.00         850   $382,500    \n",
       "4              Men's Apparel        $60.00         900   $540,000    \n",
       "\n",
       "  Operating Profit Operating Margin Sales Method         Sales person  \\\n",
       "0        $300,000               50%     In-store  Dennison Crosswaite   \n",
       "1        $150,000               30%     In-store         Husein Augar   \n",
       "2        $140,000               35%     In-store           Oby Sorrel   \n",
       "3        $133,875               35%     In-store  Dennison Crosswaite   \n",
       "4        $162,000               30%     In-store       Curtice Advani   \n",
       "\n",
       "   Campaign Category      Segment  \n",
       "0        21    Rural   Moderation  \n",
       "1        17    Rural  Convenience  \n",
       "2         1      Mix   All Season  \n",
       "3        18    Youth    Accessory  \n",
       "4         8    Urban       Select  "
      ]
     },
     "execution_count": 44,
     "metadata": {},
     "output_type": "execute_result"
    }
   ],
   "source": [
    "df.head()"
   ]
  },
  {
   "cell_type": "markdown",
   "id": "297bc5e7",
   "metadata": {},
   "source": [
    "### Drop unnecessary records"
   ]
  },
  {
   "cell_type": "code",
   "execution_count": 45,
   "id": "d7550480",
   "metadata": {},
   "outputs": [
    {
     "data": {
      "text/plain": [
       "Index(['Retailer', 'Retailer ID', 'Invoice Date', 'Region', 'State', 'City',\n",
       "       'Product', 'Price per Unit', 'Units Sold', 'Total Sales',\n",
       "       'Operating Profit', 'Operating Margin', 'Sales Method', 'Sales person',\n",
       "       'Campaign', 'Category', 'Segment'],\n",
       "      dtype='object')"
      ]
     },
     "execution_count": 45,
     "metadata": {},
     "output_type": "execute_result"
    }
   ],
   "source": [
    "df.columns\n"
   ]
  },
  {
   "cell_type": "code",
   "execution_count": 46,
   "id": "7ff62d37",
   "metadata": {},
   "outputs": [],
   "source": [
    "df = df.drop(columns=['Retailer ID', 'Invoice Date', 'State','Operating Profit', 'Operating Margin'])"
   ]
  },
  {
   "cell_type": "code",
   "execution_count": 47,
   "id": "0d06b8e7",
   "metadata": {},
   "outputs": [
    {
     "data": {
      "text/html": [
       "<div>\n",
       "<style scoped>\n",
       "    .dataframe tbody tr th:only-of-type {\n",
       "        vertical-align: middle;\n",
       "    }\n",
       "\n",
       "    .dataframe tbody tr th {\n",
       "        vertical-align: top;\n",
       "    }\n",
       "\n",
       "    .dataframe thead th {\n",
       "        text-align: right;\n",
       "    }\n",
       "</style>\n",
       "<table border=\"1\" class=\"dataframe\">\n",
       "  <thead>\n",
       "    <tr style=\"text-align: right;\">\n",
       "      <th></th>\n",
       "      <th>Retailer</th>\n",
       "      <th>Region</th>\n",
       "      <th>City</th>\n",
       "      <th>Product</th>\n",
       "      <th>Price per Unit</th>\n",
       "      <th>Units Sold</th>\n",
       "      <th>Total Sales</th>\n",
       "      <th>Sales Method</th>\n",
       "      <th>Sales person</th>\n",
       "      <th>Campaign</th>\n",
       "      <th>Category</th>\n",
       "      <th>Segment</th>\n",
       "    </tr>\n",
       "  </thead>\n",
       "  <tbody>\n",
       "    <tr>\n",
       "      <th>0</th>\n",
       "      <td>Foot Locker</td>\n",
       "      <td>Northeast</td>\n",
       "      <td>New York</td>\n",
       "      <td>Men's Street Footwear</td>\n",
       "      <td>$50.00</td>\n",
       "      <td>1,200</td>\n",
       "      <td>$600,000</td>\n",
       "      <td>In-store</td>\n",
       "      <td>Dennison Crosswaite</td>\n",
       "      <td>21</td>\n",
       "      <td>Rural</td>\n",
       "      <td>Moderation</td>\n",
       "    </tr>\n",
       "    <tr>\n",
       "      <th>1</th>\n",
       "      <td>Foot Locker</td>\n",
       "      <td>Northeast</td>\n",
       "      <td>New York</td>\n",
       "      <td>Men's Athletic Footwear</td>\n",
       "      <td>$50.00</td>\n",
       "      <td>1,000</td>\n",
       "      <td>$500,000</td>\n",
       "      <td>In-store</td>\n",
       "      <td>Husein Augar</td>\n",
       "      <td>17</td>\n",
       "      <td>Rural</td>\n",
       "      <td>Convenience</td>\n",
       "    </tr>\n",
       "    <tr>\n",
       "      <th>2</th>\n",
       "      <td>Foot Locker</td>\n",
       "      <td>Northeast</td>\n",
       "      <td>New York</td>\n",
       "      <td>Women's Street Footwear</td>\n",
       "      <td>$40.00</td>\n",
       "      <td>1,000</td>\n",
       "      <td>$400,000</td>\n",
       "      <td>In-store</td>\n",
       "      <td>Oby Sorrel</td>\n",
       "      <td>1</td>\n",
       "      <td>Mix</td>\n",
       "      <td>All Season</td>\n",
       "    </tr>\n",
       "    <tr>\n",
       "      <th>3</th>\n",
       "      <td>Foot Locker</td>\n",
       "      <td>Northeast</td>\n",
       "      <td>New York</td>\n",
       "      <td>Women's Athletic Footwear</td>\n",
       "      <td>$45.00</td>\n",
       "      <td>850</td>\n",
       "      <td>$382,500</td>\n",
       "      <td>In-store</td>\n",
       "      <td>Dennison Crosswaite</td>\n",
       "      <td>18</td>\n",
       "      <td>Youth</td>\n",
       "      <td>Accessory</td>\n",
       "    </tr>\n",
       "    <tr>\n",
       "      <th>4</th>\n",
       "      <td>Foot Locker</td>\n",
       "      <td>Northeast</td>\n",
       "      <td>New York</td>\n",
       "      <td>Men's Apparel</td>\n",
       "      <td>$60.00</td>\n",
       "      <td>900</td>\n",
       "      <td>$540,000</td>\n",
       "      <td>In-store</td>\n",
       "      <td>Curtice Advani</td>\n",
       "      <td>8</td>\n",
       "      <td>Urban</td>\n",
       "      <td>Select</td>\n",
       "    </tr>\n",
       "  </tbody>\n",
       "</table>\n",
       "</div>"
      ],
      "text/plain": [
       "      Retailer     Region      City                    Product Price per Unit  \\\n",
       "0  Foot Locker  Northeast  New York      Men's Street Footwear        $50.00    \n",
       "1  Foot Locker  Northeast  New York    Men's Athletic Footwear        $50.00    \n",
       "2  Foot Locker  Northeast  New York    Women's Street Footwear        $40.00    \n",
       "3  Foot Locker  Northeast  New York  Women's Athletic Footwear        $45.00    \n",
       "4  Foot Locker  Northeast  New York              Men's Apparel        $60.00    \n",
       "\n",
       "  Units Sold Total Sales Sales Method         Sales person  Campaign Category  \\\n",
       "0      1,200   $600,000      In-store  Dennison Crosswaite        21    Rural   \n",
       "1      1,000   $500,000      In-store         Husein Augar        17    Rural   \n",
       "2      1,000   $400,000      In-store           Oby Sorrel         1      Mix   \n",
       "3        850   $382,500      In-store  Dennison Crosswaite        18    Youth   \n",
       "4        900   $540,000      In-store       Curtice Advani         8    Urban   \n",
       "\n",
       "       Segment  \n",
       "0   Moderation  \n",
       "1  Convenience  \n",
       "2   All Season  \n",
       "3    Accessory  \n",
       "4       Select  "
      ]
     },
     "execution_count": 47,
     "metadata": {},
     "output_type": "execute_result"
    }
   ],
   "source": [
    "df.head()"
   ]
  },
  {
   "cell_type": "markdown",
   "id": "2107a956",
   "metadata": {},
   "source": [
    "#### Shape of the dataset"
   ]
  },
  {
   "cell_type": "code",
   "execution_count": 48,
   "id": "914b3475",
   "metadata": {},
   "outputs": [
    {
     "data": {
      "text/plain": [
       "(9648, 12)"
      ]
     },
     "execution_count": 48,
     "metadata": {},
     "output_type": "execute_result"
    }
   ],
   "source": [
    "df.shape"
   ]
  },
  {
   "cell_type": "code",
   "execution_count": 49,
   "id": "20bfd68e",
   "metadata": {},
   "outputs": [
    {
     "data": {
      "text/plain": [
       "Index(['Retailer', 'Region', 'City', 'Product', 'Price per Unit', 'Units Sold',\n",
       "       'Total Sales', 'Sales Method', 'Sales person', 'Campaign', 'Category',\n",
       "       'Segment'],\n",
       "      dtype='object')"
      ]
     },
     "execution_count": 49,
     "metadata": {},
     "output_type": "execute_result"
    }
   ],
   "source": [
    "df.columns"
   ]
  },
  {
   "cell_type": "markdown",
   "id": "002acce6",
   "metadata": {},
   "source": [
    "### 2.2 Dataset information\n",
    "\n",
    "- Retailer : Retailer Name\n",
    "- Region : Region of Sale\n",
    "- City : city of sale\n",
    "- Product : Name of product\n",
    "- Price per Unit : Price of product\n",
    "- Units Sold : Quantity Sold\n",
    "- Total Sales : Total Sale\n",
    "- Sales Method : Sales Channel\n",
    "- Sales person : Person who made the sale\n",
    "- Campaign : Campaign type\n",
    "- Category : Environment\n",
    "- Segment : Sale Segmentation\n"
   ]
  },
  {
   "cell_type": "markdown",
   "id": "7659c4b7",
   "metadata": {},
   "source": [
    "### 3. Data Checks to perform\n",
    "\n",
    "- Check Missing values\n",
    "- Check Duplicates\n",
    "- Check data type\n",
    "- Check the number of unique values of each column\n",
    "- Check statistics of data set\n",
    "- Check various categories present in the different categorical column"
   ]
  },
  {
   "cell_type": "markdown",
   "id": "3fd7046b",
   "metadata": {},
   "source": [
    "### 3.1 Check Missing values"
   ]
  },
  {
   "cell_type": "code",
   "execution_count": 50,
   "id": "bf4f5c35",
   "metadata": {},
   "outputs": [
    {
     "data": {
      "text/plain": [
       "Retailer          0\n",
       "Region            0\n",
       "City              0\n",
       "Product           0\n",
       "Price per Unit    0\n",
       "Units Sold        0\n",
       "Total Sales       0\n",
       "Sales Method      0\n",
       "Sales person      0\n",
       "Campaign          0\n",
       "Category          0\n",
       "Segment           0\n",
       "dtype: int64"
      ]
     },
     "execution_count": 50,
     "metadata": {},
     "output_type": "execute_result"
    }
   ],
   "source": [
    "df.isna().sum()"
   ]
  },
  {
   "cell_type": "markdown",
   "id": "f7156310",
   "metadata": {},
   "source": [
    "### 3.2 Check Duplicates"
   ]
  },
  {
   "cell_type": "code",
   "execution_count": 51,
   "id": "cdbe33d5",
   "metadata": {},
   "outputs": [
    {
     "data": {
      "text/plain": [
       "0"
      ]
     },
     "execution_count": 51,
     "metadata": {},
     "output_type": "execute_result"
    }
   ],
   "source": [
    "df.duplicated().sum()"
   ]
  },
  {
   "cell_type": "markdown",
   "id": "9b03e8d0",
   "metadata": {},
   "source": [
    "### 3.3 Check data types"
   ]
  },
  {
   "cell_type": "code",
   "execution_count": 52,
   "id": "3fa9965f",
   "metadata": {},
   "outputs": [
    {
     "name": "stdout",
     "output_type": "stream",
     "text": [
      "<class 'pandas.core.frame.DataFrame'>\n",
      "RangeIndex: 9648 entries, 0 to 9647\n",
      "Data columns (total 12 columns):\n",
      " #   Column          Non-Null Count  Dtype \n",
      "---  ------          --------------  ----- \n",
      " 0   Retailer        9648 non-null   object\n",
      " 1   Region          9648 non-null   object\n",
      " 2   City            9648 non-null   object\n",
      " 3   Product         9648 non-null   object\n",
      " 4   Price per Unit  9648 non-null   object\n",
      " 5   Units Sold      9648 non-null   object\n",
      " 6   Total Sales     9648 non-null   object\n",
      " 7   Sales Method    9648 non-null   object\n",
      " 8   Sales person    9648 non-null   object\n",
      " 9   Campaign        9648 non-null   int64 \n",
      " 10  Category        9648 non-null   object\n",
      " 11  Segment         9648 non-null   object\n",
      "dtypes: int64(1), object(11)\n",
      "memory usage: 904.6+ KB\n"
     ]
    }
   ],
   "source": [
    "# Check Null and Dtypes\n",
    "df.info()"
   ]
  },
  {
   "cell_type": "markdown",
   "id": "427b4c34",
   "metadata": {},
   "source": [
    "### Convert Price per Unit, Units Sold, and Total Sales to float"
   ]
  },
  {
   "cell_type": "code",
   "execution_count": 53,
   "id": "701f0d30",
   "metadata": {},
   "outputs": [],
   "source": [
    "df['Price per Unit'] = df['Price per Unit'].str.replace(r'$', '', regex=True)\n",
    "df['Price per Unit'] = df['Price per Unit'].str.replace(r',', '', regex=True)\n",
    "\n",
    "df['Total Sales'] = df['Total Sales'].str.replace(r'$', '', regex=True)\n",
    "df['Total Sales'] = df['Total Sales'].str.replace(r',', '', regex=True)\n",
    "\n",
    "df['Units Sold'] = df['Units Sold'].str.replace(',','', regex=True)\n",
    "#df.replace(',','', regex=True, inplace=True)"
   ]
  },
  {
   "cell_type": "code",
   "execution_count": 54,
   "id": "0f90b036",
   "metadata": {},
   "outputs": [
    {
     "data": {
      "text/html": [
       "<div>\n",
       "<style scoped>\n",
       "    .dataframe tbody tr th:only-of-type {\n",
       "        vertical-align: middle;\n",
       "    }\n",
       "\n",
       "    .dataframe tbody tr th {\n",
       "        vertical-align: top;\n",
       "    }\n",
       "\n",
       "    .dataframe thead th {\n",
       "        text-align: right;\n",
       "    }\n",
       "</style>\n",
       "<table border=\"1\" class=\"dataframe\">\n",
       "  <thead>\n",
       "    <tr style=\"text-align: right;\">\n",
       "      <th></th>\n",
       "      <th>Retailer</th>\n",
       "      <th>Region</th>\n",
       "      <th>City</th>\n",
       "      <th>Product</th>\n",
       "      <th>Price per Unit</th>\n",
       "      <th>Units Sold</th>\n",
       "      <th>Total Sales</th>\n",
       "      <th>Sales Method</th>\n",
       "      <th>Sales person</th>\n",
       "      <th>Campaign</th>\n",
       "      <th>Category</th>\n",
       "      <th>Segment</th>\n",
       "    </tr>\n",
       "  </thead>\n",
       "  <tbody>\n",
       "    <tr>\n",
       "      <th>0</th>\n",
       "      <td>Foot Locker</td>\n",
       "      <td>Northeast</td>\n",
       "      <td>New York</td>\n",
       "      <td>Men's Street Footwear</td>\n",
       "      <td>50.00</td>\n",
       "      <td>1200</td>\n",
       "      <td>600000</td>\n",
       "      <td>In-store</td>\n",
       "      <td>Dennison Crosswaite</td>\n",
       "      <td>21</td>\n",
       "      <td>Rural</td>\n",
       "      <td>Moderation</td>\n",
       "    </tr>\n",
       "    <tr>\n",
       "      <th>1</th>\n",
       "      <td>Foot Locker</td>\n",
       "      <td>Northeast</td>\n",
       "      <td>New York</td>\n",
       "      <td>Men's Athletic Footwear</td>\n",
       "      <td>50.00</td>\n",
       "      <td>1000</td>\n",
       "      <td>500000</td>\n",
       "      <td>In-store</td>\n",
       "      <td>Husein Augar</td>\n",
       "      <td>17</td>\n",
       "      <td>Rural</td>\n",
       "      <td>Convenience</td>\n",
       "    </tr>\n",
       "    <tr>\n",
       "      <th>2</th>\n",
       "      <td>Foot Locker</td>\n",
       "      <td>Northeast</td>\n",
       "      <td>New York</td>\n",
       "      <td>Women's Street Footwear</td>\n",
       "      <td>40.00</td>\n",
       "      <td>1000</td>\n",
       "      <td>400000</td>\n",
       "      <td>In-store</td>\n",
       "      <td>Oby Sorrel</td>\n",
       "      <td>1</td>\n",
       "      <td>Mix</td>\n",
       "      <td>All Season</td>\n",
       "    </tr>\n",
       "    <tr>\n",
       "      <th>3</th>\n",
       "      <td>Foot Locker</td>\n",
       "      <td>Northeast</td>\n",
       "      <td>New York</td>\n",
       "      <td>Women's Athletic Footwear</td>\n",
       "      <td>45.00</td>\n",
       "      <td>850</td>\n",
       "      <td>382500</td>\n",
       "      <td>In-store</td>\n",
       "      <td>Dennison Crosswaite</td>\n",
       "      <td>18</td>\n",
       "      <td>Youth</td>\n",
       "      <td>Accessory</td>\n",
       "    </tr>\n",
       "    <tr>\n",
       "      <th>4</th>\n",
       "      <td>Foot Locker</td>\n",
       "      <td>Northeast</td>\n",
       "      <td>New York</td>\n",
       "      <td>Men's Apparel</td>\n",
       "      <td>60.00</td>\n",
       "      <td>900</td>\n",
       "      <td>540000</td>\n",
       "      <td>In-store</td>\n",
       "      <td>Curtice Advani</td>\n",
       "      <td>8</td>\n",
       "      <td>Urban</td>\n",
       "      <td>Select</td>\n",
       "    </tr>\n",
       "    <tr>\n",
       "      <th>...</th>\n",
       "      <td>...</td>\n",
       "      <td>...</td>\n",
       "      <td>...</td>\n",
       "      <td>...</td>\n",
       "      <td>...</td>\n",
       "      <td>...</td>\n",
       "      <td>...</td>\n",
       "      <td>...</td>\n",
       "      <td>...</td>\n",
       "      <td>...</td>\n",
       "      <td>...</td>\n",
       "      <td>...</td>\n",
       "    </tr>\n",
       "    <tr>\n",
       "      <th>95</th>\n",
       "      <td>Walmart</td>\n",
       "      <td>South</td>\n",
       "      <td>Houston</td>\n",
       "      <td>Women's Athletic Footwear</td>\n",
       "      <td>40.00</td>\n",
       "      <td>700</td>\n",
       "      <td>280000</td>\n",
       "      <td>Outlet</td>\n",
       "      <td>Andria Kimpton</td>\n",
       "      <td>8</td>\n",
       "      <td>Accessory</td>\n",
       "      <td>Moderation</td>\n",
       "    </tr>\n",
       "    <tr>\n",
       "      <th>96</th>\n",
       "      <td>Walmart</td>\n",
       "      <td>South</td>\n",
       "      <td>Houston</td>\n",
       "      <td>Men's Apparel</td>\n",
       "      <td>45.00</td>\n",
       "      <td>600</td>\n",
       "      <td>270000</td>\n",
       "      <td>Outlet</td>\n",
       "      <td>Dennison Crosswaite</td>\n",
       "      <td>5</td>\n",
       "      <td>Accessory</td>\n",
       "      <td>Convenience</td>\n",
       "    </tr>\n",
       "    <tr>\n",
       "      <th>97</th>\n",
       "      <td>Walmart</td>\n",
       "      <td>South</td>\n",
       "      <td>Houston</td>\n",
       "      <td>Women's Apparel</td>\n",
       "      <td>40.00</td>\n",
       "      <td>950</td>\n",
       "      <td>380000</td>\n",
       "      <td>Outlet</td>\n",
       "      <td>Brien Boise</td>\n",
       "      <td>10</td>\n",
       "      <td>Mix</td>\n",
       "      <td>Moderation</td>\n",
       "    </tr>\n",
       "    <tr>\n",
       "      <th>98</th>\n",
       "      <td>Walmart</td>\n",
       "      <td>South</td>\n",
       "      <td>Houston</td>\n",
       "      <td>Men's Street Footwear</td>\n",
       "      <td>40.00</td>\n",
       "      <td>950</td>\n",
       "      <td>380000</td>\n",
       "      <td>Outlet</td>\n",
       "      <td>Van Tuxwell</td>\n",
       "      <td>3</td>\n",
       "      <td>Youth</td>\n",
       "      <td>Moderation</td>\n",
       "    </tr>\n",
       "    <tr>\n",
       "      <th>99</th>\n",
       "      <td>Walmart</td>\n",
       "      <td>South</td>\n",
       "      <td>Houston</td>\n",
       "      <td>Men's Athletic Footwear</td>\n",
       "      <td>45.00</td>\n",
       "      <td>950</td>\n",
       "      <td>427500</td>\n",
       "      <td>Outlet</td>\n",
       "      <td>Roddy Speechley</td>\n",
       "      <td>18</td>\n",
       "      <td>Accessory</td>\n",
       "      <td>Youth</td>\n",
       "    </tr>\n",
       "  </tbody>\n",
       "</table>\n",
       "<p>100 rows × 12 columns</p>\n",
       "</div>"
      ],
      "text/plain": [
       "       Retailer     Region      City                    Product  \\\n",
       "0   Foot Locker  Northeast  New York      Men's Street Footwear   \n",
       "1   Foot Locker  Northeast  New York    Men's Athletic Footwear   \n",
       "2   Foot Locker  Northeast  New York    Women's Street Footwear   \n",
       "3   Foot Locker  Northeast  New York  Women's Athletic Footwear   \n",
       "4   Foot Locker  Northeast  New York              Men's Apparel   \n",
       "..          ...        ...       ...                        ...   \n",
       "95      Walmart      South   Houston  Women's Athletic Footwear   \n",
       "96      Walmart      South   Houston              Men's Apparel   \n",
       "97      Walmart      South   Houston            Women's Apparel   \n",
       "98      Walmart      South   Houston      Men's Street Footwear   \n",
       "99      Walmart      South   Houston    Men's Athletic Footwear   \n",
       "\n",
       "   Price per Unit Units Sold Total Sales Sales Method         Sales person  \\\n",
       "0          50.00        1200     600000      In-store  Dennison Crosswaite   \n",
       "1          50.00        1000     500000      In-store         Husein Augar   \n",
       "2          40.00        1000     400000      In-store           Oby Sorrel   \n",
       "3          45.00         850     382500      In-store  Dennison Crosswaite   \n",
       "4          60.00         900     540000      In-store       Curtice Advani   \n",
       "..            ...        ...         ...          ...                  ...   \n",
       "95         40.00         700     280000        Outlet       Andria Kimpton   \n",
       "96         45.00         600     270000        Outlet  Dennison Crosswaite   \n",
       "97         40.00         950     380000        Outlet          Brien Boise   \n",
       "98         40.00         950     380000        Outlet          Van Tuxwell   \n",
       "99         45.00         950     427500        Outlet      Roddy Speechley   \n",
       "\n",
       "    Campaign   Category      Segment  \n",
       "0         21      Rural   Moderation  \n",
       "1         17      Rural  Convenience  \n",
       "2          1        Mix   All Season  \n",
       "3         18      Youth    Accessory  \n",
       "4          8      Urban       Select  \n",
       "..       ...        ...          ...  \n",
       "95         8  Accessory   Moderation  \n",
       "96         5  Accessory  Convenience  \n",
       "97        10        Mix   Moderation  \n",
       "98         3      Youth   Moderation  \n",
       "99        18  Accessory        Youth  \n",
       "\n",
       "[100 rows x 12 columns]"
      ]
     },
     "execution_count": 54,
     "metadata": {},
     "output_type": "execute_result"
    }
   ],
   "source": [
    "df.head(100)"
   ]
  },
  {
   "cell_type": "code",
   "execution_count": 55,
   "id": "f33a0397",
   "metadata": {},
   "outputs": [],
   "source": [
    "df['Price per Unit'] = df['Price per Unit'].astype('float64') \n",
    "df['Units Sold'] = df['Units Sold'].astype('float64') \n",
    "df['Total Sales'] = df['Total Sales'].astype('float64') "
   ]
  },
  {
   "cell_type": "code",
   "execution_count": 56,
   "id": "332ee32a",
   "metadata": {},
   "outputs": [
    {
     "name": "stdout",
     "output_type": "stream",
     "text": [
      "<class 'pandas.core.frame.DataFrame'>\n",
      "RangeIndex: 9648 entries, 0 to 9647\n",
      "Data columns (total 12 columns):\n",
      " #   Column          Non-Null Count  Dtype  \n",
      "---  ------          --------------  -----  \n",
      " 0   Retailer        9648 non-null   object \n",
      " 1   Region          9648 non-null   object \n",
      " 2   City            9648 non-null   object \n",
      " 3   Product         9648 non-null   object \n",
      " 4   Price per Unit  9648 non-null   float64\n",
      " 5   Units Sold      9648 non-null   float64\n",
      " 6   Total Sales     9648 non-null   float64\n",
      " 7   Sales Method    9648 non-null   object \n",
      " 8   Sales person    9648 non-null   object \n",
      " 9   Campaign        9648 non-null   int64  \n",
      " 10  Category        9648 non-null   object \n",
      " 11  Segment         9648 non-null   object \n",
      "dtypes: float64(3), int64(1), object(8)\n",
      "memory usage: 904.6+ KB\n"
     ]
    }
   ],
   "source": [
    "df.info()"
   ]
  },
  {
   "cell_type": "markdown",
   "id": "88bcdaa3",
   "metadata": {},
   "source": [
    "### 3.4 Checking the number of unique values of each column"
   ]
  },
  {
   "cell_type": "code",
   "execution_count": 57,
   "id": "f39707ee",
   "metadata": {},
   "outputs": [
    {
     "data": {
      "text/plain": [
       "Retailer             6\n",
       "Region               5\n",
       "City                52\n",
       "Product              6\n",
       "Price per Unit      94\n",
       "Units Sold         361\n",
       "Total Sales       3138\n",
       "Sales Method         3\n",
       "Sales person        25\n",
       "Campaign            22\n",
       "Category             5\n",
       "Segment              9\n",
       "dtype: int64"
      ]
     },
     "execution_count": 57,
     "metadata": {},
     "output_type": "execute_result"
    }
   ],
   "source": [
    "df.nunique()"
   ]
  },
  {
   "cell_type": "code",
   "execution_count": 58,
   "id": "c45759d7",
   "metadata": {},
   "outputs": [],
   "source": [
    "### 3.5 Check statistics of data set"
   ]
  },
  {
   "cell_type": "code",
   "execution_count": 59,
   "id": "bacd86ab",
   "metadata": {},
   "outputs": [
    {
     "data": {
      "text/html": [
       "<div>\n",
       "<style scoped>\n",
       "    .dataframe tbody tr th:only-of-type {\n",
       "        vertical-align: middle;\n",
       "    }\n",
       "\n",
       "    .dataframe tbody tr th {\n",
       "        vertical-align: top;\n",
       "    }\n",
       "\n",
       "    .dataframe thead th {\n",
       "        text-align: right;\n",
       "    }\n",
       "</style>\n",
       "<table border=\"1\" class=\"dataframe\">\n",
       "  <thead>\n",
       "    <tr style=\"text-align: right;\">\n",
       "      <th></th>\n",
       "      <th>Price per Unit</th>\n",
       "      <th>Units Sold</th>\n",
       "      <th>Total Sales</th>\n",
       "      <th>Campaign</th>\n",
       "    </tr>\n",
       "  </thead>\n",
       "  <tbody>\n",
       "    <tr>\n",
       "      <th>count</th>\n",
       "      <td>9648.000000</td>\n",
       "      <td>9648.000000</td>\n",
       "      <td>9648.000000</td>\n",
       "      <td>9648.000000</td>\n",
       "    </tr>\n",
       "    <tr>\n",
       "      <th>mean</th>\n",
       "      <td>45.216625</td>\n",
       "      <td>256.930037</td>\n",
       "      <td>93273.437500</td>\n",
       "      <td>11.421849</td>\n",
       "    </tr>\n",
       "    <tr>\n",
       "      <th>std</th>\n",
       "      <td>14.705397</td>\n",
       "      <td>214.252030</td>\n",
       "      <td>141916.016727</td>\n",
       "      <td>6.328971</td>\n",
       "    </tr>\n",
       "    <tr>\n",
       "      <th>min</th>\n",
       "      <td>7.000000</td>\n",
       "      <td>0.000000</td>\n",
       "      <td>0.000000</td>\n",
       "      <td>1.000000</td>\n",
       "    </tr>\n",
       "    <tr>\n",
       "      <th>25%</th>\n",
       "      <td>35.000000</td>\n",
       "      <td>106.000000</td>\n",
       "      <td>4254.500000</td>\n",
       "      <td>6.000000</td>\n",
       "    </tr>\n",
       "    <tr>\n",
       "      <th>50%</th>\n",
       "      <td>45.000000</td>\n",
       "      <td>176.000000</td>\n",
       "      <td>9576.000000</td>\n",
       "      <td>11.000000</td>\n",
       "    </tr>\n",
       "    <tr>\n",
       "      <th>75%</th>\n",
       "      <td>55.000000</td>\n",
       "      <td>350.000000</td>\n",
       "      <td>150000.000000</td>\n",
       "      <td>17.000000</td>\n",
       "    </tr>\n",
       "    <tr>\n",
       "      <th>max</th>\n",
       "      <td>110.000000</td>\n",
       "      <td>1275.000000</td>\n",
       "      <td>825000.000000</td>\n",
       "      <td>22.000000</td>\n",
       "    </tr>\n",
       "  </tbody>\n",
       "</table>\n",
       "</div>"
      ],
      "text/plain": [
       "       Price per Unit   Units Sold    Total Sales     Campaign\n",
       "count     9648.000000  9648.000000    9648.000000  9648.000000\n",
       "mean        45.216625   256.930037   93273.437500    11.421849\n",
       "std         14.705397   214.252030  141916.016727     6.328971\n",
       "min          7.000000     0.000000       0.000000     1.000000\n",
       "25%         35.000000   106.000000    4254.500000     6.000000\n",
       "50%         45.000000   176.000000    9576.000000    11.000000\n",
       "75%         55.000000   350.000000  150000.000000    17.000000\n",
       "max        110.000000  1275.000000  825000.000000    22.000000"
      ]
     },
     "execution_count": 59,
     "metadata": {},
     "output_type": "execute_result"
    }
   ],
   "source": [
    "df.describe()"
   ]
  },
  {
   "cell_type": "markdown",
   "id": "bbde5d0a",
   "metadata": {},
   "source": [
    "#### Insight\n",
    "- Our minimum units sold is 0 and the maximum is 1275\n",
    "- Total sale ranged from 0 to 85250 dollars\n"
   ]
  },
  {
   "cell_type": "markdown",
   "id": "0cc738e6",
   "metadata": {},
   "source": [
    "### View Categorical Variables"
   ]
  },
  {
   "cell_type": "code",
   "execution_count": 60,
   "id": "91887788",
   "metadata": {},
   "outputs": [],
   "source": [
    "#df.drop(columns=['Units Solds'], inplace=True)"
   ]
  },
  {
   "cell_type": "code",
   "execution_count": 61,
   "id": "a5e42c28",
   "metadata": {},
   "outputs": [
    {
     "name": "stdout",
     "output_type": "stream",
     "text": [
      "Categories in 'Retailer' variable:      ['Foot Locker', 'Walmart', 'Sports Direct', 'West Gear', \"Kohl's\", 'Amazon']\n",
      "Categories in 'Region' variable:   ['Northeast', 'South', 'West', 'Midwest', 'Southeast']\n",
      "Categories in 'City' variable: ['New York', 'Houston', 'San Francisco', 'Los Angeles', 'Chicago', 'Dallas', 'Philadelphia', 'Las Vegas', 'Denver', 'Seattle', 'Miami', 'Minneapolis', 'Billings', 'Knoxville', 'Omaha', 'Birmingham', 'Portland', 'Anchorage', 'Honolulu', 'Orlando', 'Albany', 'Cheyenne', 'Richmond', 'Detroit', 'St. Louis', 'Salt Lake City', 'New Orleans', 'Boise', 'Phoenix', 'Albuquerque', 'Atlanta', 'Charleston', 'Charlotte', 'Columbus', 'Louisville', 'Jackson', 'Little Rock', 'Oklahoma City', 'Wichita', 'Sioux Falls', 'Fargo', 'Des Moines', 'Milwaukee', 'Indianapolis', 'Baltimore', 'Wilmington', 'Newark', 'Hartford', 'Providence', 'Boston', 'Burlington', 'Manchester']\n",
      "Categories in 'Product' variable:      [\"Men's Street Footwear\", \"Men's Athletic Footwear\", \"Women's Street Footwear\", \"Women's Athletic Footwear\", \"Men's Apparel\", \"Women's Apparel\"]\n",
      "Categories in 'Sales Method' variable:      ['In-store', 'Outlet', 'Online']\n",
      "Categories in 'Sales person' variable:      ['Dennison Crosswaite', 'Husein Augar', 'Oby Sorrel', 'Curtice Advani', 'Gigi Bohling', \"Wilone O'Kielt\", 'Roddy Speechley', 'Dotty Strutley', \"Marney O'Breen\", 'Madelene Upcott', 'Brien Boise', 'Barr Faughny', 'Mallorie Waber', 'Beverie Moffet', 'Kaine Padly', 'Karlen McCaffrey', 'Jehu Rudeforth', 'Ches Bonnell', 'Jan Morforth', 'Van Tuxwell', 'Rafaelita Blaksland', 'Gunar Cockshoot', 'Camilla Castle', 'Kelci Walkden', 'Andria Kimpton']\n",
      "Categories in 'Category' variable:      ['Rural', 'Mix', 'Youth', 'Urban', 'Accessory']\n",
      "Categories in 'Segment' variable:      ['Moderation', 'Convenience', 'All Season', 'Accessory', 'Select', 'Youth', 'Regular', 'Extreme', 'Productivity']\n"
     ]
    }
   ],
   "source": [
    "print(\"Categories in 'Retailer' variable:     \",end=\" \" )\n",
    "print(df['Retailer'].unique().tolist())\n",
    "\n",
    "print(\"Categories in 'Region' variable:  \",end=\" \")\n",
    "print(df['Region'].unique().tolist())\n",
    "\n",
    "print(\"Categories in 'City' variable:\",end=\" \" )\n",
    "print(df['City'].unique().tolist())\n",
    "\n",
    "print(\"Categories in 'Product' variable:     \",end=\" \" )\n",
    "print(df['Product'].unique().tolist())\n",
    "\n",
    "print(\"Categories in 'Sales Method' variable:     \",end=\" \" )\n",
    "print(df['Sales Method'].unique().tolist())\n",
    "\n",
    "print(\"Categories in 'Sales person' variable:     \",end=\" \" )\n",
    "print(df['Sales person'].unique().tolist())\n",
    "\n",
    "print(\"Categories in 'Category' variable:     \",end=\" \" )\n",
    "print(df['Category'].unique().tolist())\n",
    "\n",
    "print(\"Categories in 'Segment' variable:     \",end=\" \" )\n",
    "print(df['Segment'].unique().tolist())"
   ]
  },
  {
   "cell_type": "code",
   "execution_count": 62,
   "id": "fe9c88bb",
   "metadata": {},
   "outputs": [],
   "source": [
    "# define numerical & categorical columns\n",
    "numeric_features = [feature for feature in df.columns if df[feature].dtype != 'O']\n",
    "categorical_features = [feature for feature in df.columns if df[feature].dtype == 'O']\n",
    "\n"
   ]
  },
  {
   "cell_type": "code",
   "execution_count": 63,
   "id": "7131fea9",
   "metadata": {},
   "outputs": [
    {
     "name": "stdout",
     "output_type": "stream",
     "text": [
      "We have 4 numerical features : ['Price per Unit', 'Units Sold', 'Total Sales', 'Campaign']\n",
      "\n",
      "We have 8 categorical features : ['Retailer', 'Region', 'City', 'Product', 'Sales Method', 'Sales person', 'Category', 'Segment']\n"
     ]
    }
   ],
   "source": [
    "# print columns\n",
    "print('We have {} numerical features : {}'.format(len(numeric_features), numeric_features))\n",
    "print('\\nWe have {} categorical features : {}'.format(len(categorical_features), categorical_features))"
   ]
  },
  {
   "cell_type": "markdown",
   "id": "83846f27",
   "metadata": {},
   "source": [
    "### MultiCollinearity testing"
   ]
  },
  {
   "cell_type": "code",
   "execution_count": 64,
   "id": "8dfd0c12",
   "metadata": {},
   "outputs": [],
   "source": [
    "data = df[numeric_features + categorical_features]\n",
    "\n",
    "# creating dummies for categorical variables\n",
    "keys = ['Foot Locker', 'Walmart', 'Sports Direct', 'West Gear' ,\"Kohl's\" ,'Amazon']\n",
    "values = [x for x in range(len(keys))]\n",
    "data['Retailer'] = data['Retailer'].map(dict(zip(keys, values)))\n",
    "\n",
    "keys = ['Northeast', 'South', 'West', 'Midwest', 'Southeast']\n",
    "values = [x for x in range(len(keys))]\n",
    "data['Region'] = data['Region'].map(dict(zip(keys, values)))\n",
    "\n",
    "keys = ['New York', 'Houston', 'San Francisco', 'Los Angeles', 'Chicago', 'Dallas', 'Philadelphia', 'Las Vegas', 'Denver', 'Seattle', 'Miami', 'Minneapolis', 'Billings', 'Knoxville', 'Omaha', 'Birmingham', 'Portland', 'Anchorage', 'Honolulu', 'Orlando', 'Albany', 'Cheyenne', 'Richmond', 'Detroit', 'St. Louis', 'Salt Lake City', 'New Orleans', 'Boise', 'Phoenix', 'Albuquerque', 'Atlanta', 'Charleston', 'Charlotte', 'Columbus', 'Louisville', 'Jackson', 'Little Rock', 'Oklahoma City', 'Wichita', 'Sioux Falls', 'Fargo', 'Des Moines', 'Milwaukee', 'Indianapolis', 'Baltimore', 'Wilmington', 'Newark', 'Hartford', 'Providence', 'Boston', 'Burlington', 'Manchester']\n",
    "values = [x for x in range(len(keys))]\n",
    "data['City'] = data['City'].map(dict(zip(keys, values)))\n",
    "\n",
    "keys =  [\"Men's Street Footwear\", \"Men's Athletic Footwear\", \"Women's Street Footwear\", \"Women's Athletic Footwear\", \"Men's Apparel\", \"Women's Apparel\"]\n",
    "values = [x for x in range(len(keys))]\n",
    "data['Product'] = data['Product'].map(dict(zip(keys, values)))\n",
    "\n",
    "keys =  ['In-store', 'Outlet', 'Online']\n",
    "values = [x for x in range(len(keys))]\n",
    "data['Sales Method'] = data['Sales Method'].map(dict(zip(keys, values)))\n",
    "\n",
    "keys = ['Dennison Crosswaite', 'Husein Augar', 'Oby Sorrel', 'Curtice Advani', 'Gigi Bohling', \"Wilone O'Kielt\", 'Roddy Speechley', 'Dotty Strutley', \"Marney O'Breen\", 'Madelene Upcott', 'Brien Boise', 'Barr Faughny', 'Mallorie Waber', 'Beverie Moffet', 'Kaine Padly', 'Karlen McCaffrey', 'Jehu Rudeforth', 'Ches Bonnell', 'Jan Morforth', 'Van Tuxwell', 'Rafaelita Blaksland', 'Gunar Cockshoot', 'Camilla Castle', 'Kelci Walkden', 'Andria Kimpton']\n",
    "values = [x for x in range(len(keys))]\n",
    "data['Sales person'] = data['Sales person'].map(dict(zip(keys, values)))\n",
    "                                                         \n",
    "keys = ['Rural', 'Mix', 'Youth', 'Urban', 'Accessory']\n",
    "values = [x for x in range(len(keys))]\n",
    "data['Category'] = data['Category'].map(dict(zip(keys, values)))                                                         \n",
    "\n",
    "keys = ['Moderation', 'Convenience', 'All Season', 'Accessory', 'Select', 'Youth', 'Regular', 'Extreme', 'Productivity']\n",
    "values = [x for x in range(len(keys))]\n",
    "data['Segment'] = data['Segment'].map(dict(zip(keys, values))) "
   ]
  },
  {
   "cell_type": "code",
   "execution_count": 65,
   "id": "1c603132",
   "metadata": {},
   "outputs": [
    {
     "data": {
      "text/html": [
       "<div>\n",
       "<style scoped>\n",
       "    .dataframe tbody tr th:only-of-type {\n",
       "        vertical-align: middle;\n",
       "    }\n",
       "\n",
       "    .dataframe tbody tr th {\n",
       "        vertical-align: top;\n",
       "    }\n",
       "\n",
       "    .dataframe thead th {\n",
       "        text-align: right;\n",
       "    }\n",
       "</style>\n",
       "<table border=\"1\" class=\"dataframe\">\n",
       "  <thead>\n",
       "    <tr style=\"text-align: right;\">\n",
       "      <th></th>\n",
       "      <th>variables</th>\n",
       "      <th>VIF</th>\n",
       "    </tr>\n",
       "  </thead>\n",
       "  <tbody>\n",
       "    <tr>\n",
       "      <th>0</th>\n",
       "      <td>Price per Unit</td>\n",
       "      <td>10.202502</td>\n",
       "    </tr>\n",
       "    <tr>\n",
       "      <th>1</th>\n",
       "      <td>Units Sold</td>\n",
       "      <td>3.163052</td>\n",
       "    </tr>\n",
       "    <tr>\n",
       "      <th>2</th>\n",
       "      <td>Campaign</td>\n",
       "      <td>3.842311</td>\n",
       "    </tr>\n",
       "    <tr>\n",
       "      <th>3</th>\n",
       "      <td>Retailer</td>\n",
       "      <td>2.689067</td>\n",
       "    </tr>\n",
       "    <tr>\n",
       "      <th>4</th>\n",
       "      <td>Region</td>\n",
       "      <td>2.816774</td>\n",
       "    </tr>\n",
       "    <tr>\n",
       "      <th>5</th>\n",
       "      <td>City</td>\n",
       "      <td>3.431593</td>\n",
       "    </tr>\n",
       "    <tr>\n",
       "      <th>6</th>\n",
       "      <td>Product</td>\n",
       "      <td>3.333655</td>\n",
       "    </tr>\n",
       "    <tr>\n",
       "      <th>7</th>\n",
       "      <td>Sales Method</td>\n",
       "      <td>4.177842</td>\n",
       "    </tr>\n",
       "    <tr>\n",
       "      <th>8</th>\n",
       "      <td>Sales person</td>\n",
       "      <td>3.475761</td>\n",
       "    </tr>\n",
       "    <tr>\n",
       "      <th>9</th>\n",
       "      <td>Category</td>\n",
       "      <td>2.792723</td>\n",
       "    </tr>\n",
       "    <tr>\n",
       "      <th>10</th>\n",
       "      <td>Segment</td>\n",
       "      <td>3.181388</td>\n",
       "    </tr>\n",
       "  </tbody>\n",
       "</table>\n",
       "</div>"
      ],
      "text/plain": [
       "         variables        VIF\n",
       "0   Price per Unit  10.202502\n",
       "1       Units Sold   3.163052\n",
       "2         Campaign   3.842311\n",
       "3         Retailer   2.689067\n",
       "4           Region   2.816774\n",
       "5             City   3.431593\n",
       "6          Product   3.333655\n",
       "7     Sales Method   4.177842\n",
       "8     Sales person   3.475761\n",
       "9         Category   2.792723\n",
       "10         Segment   3.181388"
      ]
     },
     "execution_count": 65,
     "metadata": {},
     "output_type": "execute_result"
    }
   ],
   "source": [
    "# Import library for VIF\n",
    "from statsmodels.stats.outliers_influence import variance_inflation_factor\n",
    "\n",
    "def calc_vif(X):\n",
    "\n",
    "    # Calculating VIF\n",
    "    vif = pd.DataFrame()\n",
    "    vif[\"variables\"] = X.columns\n",
    "    vif[\"VIF\"] = [variance_inflation_factor(X.values, i) for i in range(X.shape[1])]\n",
    "\n",
    "    return(vif)\n",
    "\n",
    "X = data.drop(columns=['Total Sales'])\n",
    "Y = data['Total Sales']\n",
    "data = data.drop(columns=['Total Sales'])\n",
    "calc_vif(data)"
   ]
  },
  {
   "cell_type": "markdown",
   "id": "0860efc4",
   "metadata": {},
   "source": [
    "### insights\n",
    "- Price per Unit is correlated to the other values"
   ]
  },
  {
   "cell_type": "code",
   "execution_count": 66,
   "id": "7ff5c355",
   "metadata": {},
   "outputs": [
    {
     "data": {
      "text/html": [
       "<div>\n",
       "<style scoped>\n",
       "    .dataframe tbody tr th:only-of-type {\n",
       "        vertical-align: middle;\n",
       "    }\n",
       "\n",
       "    .dataframe tbody tr th {\n",
       "        vertical-align: top;\n",
       "    }\n",
       "\n",
       "    .dataframe thead th {\n",
       "        text-align: right;\n",
       "    }\n",
       "</style>\n",
       "<table border=\"1\" class=\"dataframe\">\n",
       "  <thead>\n",
       "    <tr style=\"text-align: right;\">\n",
       "      <th></th>\n",
       "      <th>variables</th>\n",
       "      <th>VIF</th>\n",
       "    </tr>\n",
       "  </thead>\n",
       "  <tbody>\n",
       "    <tr>\n",
       "      <th>0</th>\n",
       "      <td>Price per Unit</td>\n",
       "      <td>10.202502</td>\n",
       "    </tr>\n",
       "    <tr>\n",
       "      <th>1</th>\n",
       "      <td>Units Sold</td>\n",
       "      <td>3.163052</td>\n",
       "    </tr>\n",
       "    <tr>\n",
       "      <th>2</th>\n",
       "      <td>Campaign</td>\n",
       "      <td>3.842311</td>\n",
       "    </tr>\n",
       "    <tr>\n",
       "      <th>3</th>\n",
       "      <td>Retailer</td>\n",
       "      <td>2.689067</td>\n",
       "    </tr>\n",
       "    <tr>\n",
       "      <th>4</th>\n",
       "      <td>Region</td>\n",
       "      <td>2.816774</td>\n",
       "    </tr>\n",
       "    <tr>\n",
       "      <th>5</th>\n",
       "      <td>City</td>\n",
       "      <td>3.431593</td>\n",
       "    </tr>\n",
       "    <tr>\n",
       "      <th>6</th>\n",
       "      <td>Product</td>\n",
       "      <td>3.333655</td>\n",
       "    </tr>\n",
       "    <tr>\n",
       "      <th>7</th>\n",
       "      <td>Sales Method</td>\n",
       "      <td>4.177842</td>\n",
       "    </tr>\n",
       "    <tr>\n",
       "      <th>8</th>\n",
       "      <td>Sales person</td>\n",
       "      <td>3.475761</td>\n",
       "    </tr>\n",
       "    <tr>\n",
       "      <th>9</th>\n",
       "      <td>Category</td>\n",
       "      <td>2.792723</td>\n",
       "    </tr>\n",
       "    <tr>\n",
       "      <th>10</th>\n",
       "      <td>Segment</td>\n",
       "      <td>3.181388</td>\n",
       "    </tr>\n",
       "  </tbody>\n",
       "</table>\n",
       "</div>"
      ],
      "text/plain": [
       "         variables        VIF\n",
       "0   Price per Unit  10.202502\n",
       "1       Units Sold   3.163052\n",
       "2         Campaign   3.842311\n",
       "3         Retailer   2.689067\n",
       "4           Region   2.816774\n",
       "5             City   3.431593\n",
       "6          Product   3.333655\n",
       "7     Sales Method   4.177842\n",
       "8     Sales person   3.475761\n",
       "9         Category   2.792723\n",
       "10         Segment   3.181388"
      ]
     },
     "execution_count": 66,
     "metadata": {},
     "output_type": "execute_result"
    }
   ],
   "source": [
    "#drop correlated features and test again\n",
    "#data = data.drop(['Price per Unit'],axis=1)\n",
    "calc_vif(data)"
   ]
  },
  {
   "cell_type": "markdown",
   "id": "a2965800",
   "metadata": {},
   "source": [
    "### Feature Selection"
   ]
  },
  {
   "cell_type": "markdown",
   "id": "b01c4e15",
   "metadata": {},
   "source": [
    "##### Feature Selection: Variance Threshold\n",
    "Feature selector that removes all low-variance features.\n",
    "\n",
    "This feature selection algorithm looks only at the features (X), not the target outputs (y)."
   ]
  },
  {
   "cell_type": "code",
   "execution_count": 67,
   "id": "304ad0db",
   "metadata": {},
   "outputs": [
    {
     "data": {
      "text/plain": [
       "VarianceThreshold(threshold=0)"
      ]
     },
     "execution_count": 67,
     "metadata": {},
     "output_type": "execute_result"
    }
   ],
   "source": [
    "### It will zero variance features\n",
    "from sklearn.feature_selection import VarianceThreshold\n",
    "var_thres=VarianceThreshold(threshold=0)\n",
    "var_thres.fit(data)"
   ]
  },
  {
   "cell_type": "code",
   "execution_count": 68,
   "id": "da6772d5",
   "metadata": {},
   "outputs": [
    {
     "data": {
      "text/plain": [
       "array([ True,  True,  True,  True,  True,  True,  True,  True,  True,\n",
       "        True,  True])"
      ]
     },
     "execution_count": 68,
     "metadata": {},
     "output_type": "execute_result"
    }
   ],
   "source": [
    "var_thres.get_support()"
   ]
  },
  {
   "cell_type": "code",
   "execution_count": 69,
   "id": "68bc3056",
   "metadata": {},
   "outputs": [
    {
     "data": {
      "text/plain": [
       "Index(['Price per Unit', 'Units Sold', 'Campaign', 'Retailer', 'Region',\n",
       "       'City', 'Product', 'Sales Method', 'Sales person', 'Category',\n",
       "       'Segment'],\n",
       "      dtype='object')"
      ]
     },
     "execution_count": 69,
     "metadata": {},
     "output_type": "execute_result"
    }
   ],
   "source": [
    "data.columns[var_thres.get_support()]"
   ]
  },
  {
   "cell_type": "code",
   "execution_count": 70,
   "id": "44c3436e",
   "metadata": {},
   "outputs": [
    {
     "name": "stdout",
     "output_type": "stream",
     "text": [
      "0\n"
     ]
    }
   ],
   "source": [
    "constant_columns = [column for column in data.columns\n",
    "                    if column not in data.columns[var_thres.get_support()]]\n",
    "\n",
    "print(len(constant_columns))"
   ]
  },
  {
   "cell_type": "code",
   "execution_count": 71,
   "id": "acaea5f0",
   "metadata": {},
   "outputs": [],
   "source": [
    "for feature in constant_columns:\n",
    "     print(feature)"
   ]
  },
  {
   "cell_type": "markdown",
   "id": "ec64b540",
   "metadata": {},
   "source": [
    "#### Feature Selection- With Correlation\n",
    "In this step we will be removing the features which are highly correlated "
   ]
  },
  {
   "cell_type": "code",
   "execution_count": 72,
   "id": "b4f2fa2d",
   "metadata": {},
   "outputs": [
    {
     "data": {
      "image/png": "[encoded data removed]",
      "text/plain": [
       "<Figure size 864x720 with 2 Axes>"
      ]
     },
     "metadata": {
      "needs_background": "light"
     },
     "output_type": "display_data"
    }
   ],
   "source": [
    "#Using Pearson Correlation\n",
    "plt.figure(figsize=(12,10))\n",
    "cor = data.corr()\n",
    "sns.heatmap(cor, annot=True, cmap=plt.cm.CMRmap_r)\n",
    "plt.show()"
   ]
  },
  {
   "cell_type": "code",
   "execution_count": 73,
   "id": "cc17c94e",
   "metadata": {},
   "outputs": [],
   "source": [
    "# with the following function we can select highly correlated features\n",
    "# it will remove the first feature that is correlated with anything other feature\n",
    "\n",
    "def correlation(dataset, threshold):\n",
    "    col_corr = set()  # Set of all the names of correlated columns\n",
    "    corr_matrix = dataset.corr()\n",
    "    for i in range(len(corr_matrix.columns)):\n",
    "        for j in range(i):\n",
    "            if abs(corr_matrix.iloc[i, j]) > threshold: # we are interested in absolute coeff value\n",
    "                colname = corr_matrix.columns[i]  # getting the name of column\n",
    "                col_corr.add(colname)\n",
    "    return col_corr"
   ]
  },
  {
   "cell_type": "code",
   "execution_count": 74,
   "id": "a9935c79",
   "metadata": {},
   "outputs": [
    {
     "data": {
      "text/plain": [
       "0"
      ]
     },
     "execution_count": 74,
     "metadata": {},
     "output_type": "execute_result"
    }
   ],
   "source": [
    "corr_features = correlation(data, 0.7)\n",
    "len(set(corr_features))"
   ]
  },
  {
   "cell_type": "code",
   "execution_count": 75,
   "id": "18202c90",
   "metadata": {},
   "outputs": [
    {
     "data": {
      "text/plain": [
       "set()"
      ]
     },
     "execution_count": 75,
     "metadata": {},
     "output_type": "execute_result"
    }
   ],
   "source": [
    "corr_features"
   ]
  },
  {
   "cell_type": "markdown",
   "id": "3b397967",
   "metadata": {},
   "source": [
    "#### Feature Selection- Information Gain\n",
    "##### Mutual Information \n",
    "Estimate mutual information for a continuous target variable.\n",
    "\n",
    "Mutual information (MI) between two random variables is a non-negative value, which measures the dependency between the variables. It is equal to zero if and only if two random variables are independent, and higher values mean higher dependency.\n",
    "\n",
    "The function relies on nonparametric methods based on entropy estimation from k-nearest neighbors distances \n",
    "\n",
    "Mutual information is calculated between two variables and measures the reduction in uncertainty for one variable given a known value of the other variable.\n",
    "\n",
    "Inshort\n",
    "\n",
    "A quantity called mutual information measures the amount of information one can obtain from one random variable given another.\n",
    "\n",
    "The mutual information between two random variables X and Y can be stated formally as follows:\n",
    "\n",
    "<b>I(X ; Y) = H(X) – H(X | Y)<b>\n",
    "Where I(X ; Y) is the mutual information for X and Y, H(X) is the entropy for X and H(X | Y) is the conditional entropy for X given Y. The result has the units of bits."
   ]
  },
  {
   "cell_type": "code",
   "execution_count": 76,
   "id": "e8d1266d",
   "metadata": {},
   "outputs": [],
   "source": [
    "numeric_lst=['int16', 'int32', 'int64', 'float16', 'float32', 'float64']\n",
    "numerical_cols = list(data.select_dtypes(include=numeric_lst).columns)"
   ]
  },
  {
   "cell_type": "code",
   "execution_count": 77,
   "id": "b1856b32",
   "metadata": {},
   "outputs": [
    {
     "data": {
      "text/plain": [
       "['Price per Unit',\n",
       " 'Units Sold',\n",
       " 'Campaign',\n",
       " 'Retailer',\n",
       " 'Region',\n",
       " 'City',\n",
       " 'Product',\n",
       " 'Sales Method',\n",
       " 'Sales person',\n",
       " 'Category',\n",
       " 'Segment']"
      ]
     },
     "execution_count": 77,
     "metadata": {},
     "output_type": "execute_result"
    }
   ],
   "source": [
    "numerical_cols"
   ]
  },
  {
   "cell_type": "code",
   "execution_count": 78,
   "id": "55532558",
   "metadata": {},
   "outputs": [
    {
     "data": {
      "text/plain": [
       "array([1.33134838e+00, 2.17212025e+00, 0.00000000e+00, 6.49300274e-02,\n",
       "       1.21695304e-01, 3.61363158e-01, 1.31641308e-01, 2.34971978e-01,\n",
       "       0.00000000e+00, 1.56744704e-03, 5.99082181e-03])"
      ]
     },
     "execution_count": 78,
     "metadata": {},
     "output_type": "execute_result"
    }
   ],
   "source": [
    "from sklearn.feature_selection import mutual_info_regression\n",
    "# determine the mutual information\n",
    "mutual_info = mutual_info_regression(X.fillna(0), Y)\n",
    "mutual_info"
   ]
  },
  {
   "cell_type": "code",
   "execution_count": 79,
   "id": "34b7ea43",
   "metadata": {},
   "outputs": [
    {
     "data": {
      "text/plain": [
       "Units Sold        2.172120\n",
       "Price per Unit    1.331348\n",
       "City              0.361363\n",
       "Sales Method      0.234972\n",
       "Product           0.131641\n",
       "Region            0.121695\n",
       "Retailer          0.064930\n",
       "Segment           0.005991\n",
       "Category          0.001567\n",
       "Campaign          0.000000\n",
       "Sales person      0.000000\n",
       "dtype: float64"
      ]
     },
     "execution_count": 79,
     "metadata": {},
     "output_type": "execute_result"
    }
   ],
   "source": [
    "mutual_info = pd.Series(mutual_info)\n",
    "mutual_info.index = X.columns\n",
    "mutual_info.sort_values(ascending=False)"
   ]
  },
  {
   "cell_type": "code",
   "execution_count": 80,
   "id": "34242296",
   "metadata": {},
   "outputs": [
    {
     "data": {
      "text/plain": [
       "<AxesSubplot:>"
      ]
     },
     "execution_count": 80,
     "metadata": {},
     "output_type": "execute_result"
    },
    {
     "data": {
      "image/png": "[encoded data removed]",
      "text/plain": [
       "<Figure size 1080x360 with 1 Axes>"
      ]
     },
     "metadata": {
      "needs_background": "light"
     },
     "output_type": "display_data"
    }
   ],
   "source": [
    "mutual_info.sort_values(ascending=False).plot.bar(figsize=(15,5))"
   ]
  },
  {
   "cell_type": "code",
   "execution_count": 82,
   "id": "86955654",
   "metadata": {},
   "outputs": [
    {
     "data": {
      "text/plain": [
       "Index(['Price per Unit', 'Units Sold', 'City', 'Product', 'Sales Method'], dtype='object')"
      ]
     },
     "execution_count": 82,
     "metadata": {},
     "output_type": "execute_result"
    }
   ],
   "source": [
    "from sklearn.feature_selection import SelectKBest\n",
    "\n",
    "#Select the  top 5 important features\n",
    "sel_five_cols = SelectKBest(mutual_info_regression, k=5)\n",
    "sel_five_cols.fit(X, Y)\n",
    "X.columns[sel_five_cols.get_support()]"
   ]
  },
  {
   "cell_type": "markdown",
   "id": "15efe812",
   "metadata": {},
   "source": [
    "### 4. Exploring Data ( Visualization )\n",
    "#### 4.1 Visualize Total Sale distribution to make some conclusion. \n",
    "- Histogram\n",
    "- Kernel Distribution Function (KDE)"
   ]
  },
  {
   "cell_type": "code",
   "execution_count": null,
   "id": "155d5aca",
   "metadata": {},
   "outputs": [],
   "source": []
  },
  {
   "cell_type": "markdown",
   "id": "7ac6f89c",
   "metadata": {},
   "source": [
    "#### 4.1.1 Histogram & KDE"
   ]
  },
  {
   "cell_type": "code",
   "execution_count": 26,
   "id": "582f1285",
   "metadata": {
    "scrolled": true
   },
   "outputs": [
    {
     "data": {
      "image/png": "[encoded data removed]",
      "text/plain": [
       "<Figure size 1080x504 with 2 Axes>"
      ]
     },
     "metadata": {
      "needs_background": "light"
     },
     "output_type": "display_data"
    }
   ],
   "source": [
    "fig, axs = plt.subplots(1, 2, figsize=(15, 7))\n",
    "plt.subplot(121)\n",
    "sns.histplot(data=df,x='Total Sales',bins=30,kde=True,color='g')\n",
    "plt.subplot(122)\n",
    "sns.histplot(data=df,x='Total Sales',kde=True,hue='Retailer')\n",
    "plt.show()"
   ]
  },
  {
   "cell_type": "code",
   "execution_count": 27,
   "id": "7ca4ff4e",
   "metadata": {
    "scrolled": true
   },
   "outputs": [
    {
     "data": {
      "text/html": [
       "<div>\n",
       "<style scoped>\n",
       "    .dataframe tbody tr th:only-of-type {\n",
       "        vertical-align: middle;\n",
       "    }\n",
       "\n",
       "    .dataframe tbody tr th {\n",
       "        vertical-align: top;\n",
       "    }\n",
       "\n",
       "    .dataframe thead th {\n",
       "        text-align: right;\n",
       "    }\n",
       "</style>\n",
       "<table border=\"1\" class=\"dataframe\">\n",
       "  <thead>\n",
       "    <tr style=\"text-align: right;\">\n",
       "      <th></th>\n",
       "      <th>Retailer</th>\n",
       "      <th>Region</th>\n",
       "      <th>City</th>\n",
       "      <th>Product</th>\n",
       "      <th>Price per Unit</th>\n",
       "      <th>Units Sold</th>\n",
       "      <th>Total Sales</th>\n",
       "      <th>Sales Method</th>\n",
       "      <th>Sales person</th>\n",
       "      <th>Campaign</th>\n",
       "      <th>Category</th>\n",
       "      <th>Segment</th>\n",
       "    </tr>\n",
       "  </thead>\n",
       "  <tbody>\n",
       "    <tr>\n",
       "      <th>1019</th>\n",
       "      <td>Foot Locker</td>\n",
       "      <td>Midwest</td>\n",
       "      <td>Omaha</td>\n",
       "      <td>Women's Athletic Footwear</td>\n",
       "      <td>35.0</td>\n",
       "      <td>0.0</td>\n",
       "      <td>0.0</td>\n",
       "      <td>Outlet</td>\n",
       "      <td>Rafaelita Blaksland</td>\n",
       "      <td>22</td>\n",
       "      <td>Mix</td>\n",
       "      <td>Select</td>\n",
       "    </tr>\n",
       "    <tr>\n",
       "      <th>1025</th>\n",
       "      <td>Foot Locker</td>\n",
       "      <td>Midwest</td>\n",
       "      <td>Omaha</td>\n",
       "      <td>Women's Athletic Footwear</td>\n",
       "      <td>30.0</td>\n",
       "      <td>0.0</td>\n",
       "      <td>0.0</td>\n",
       "      <td>Outlet</td>\n",
       "      <td>Roddy Speechley</td>\n",
       "      <td>16</td>\n",
       "      <td>Urban</td>\n",
       "      <td>Productivity</td>\n",
       "    </tr>\n",
       "    <tr>\n",
       "      <th>4907</th>\n",
       "      <td>Foot Locker</td>\n",
       "      <td>Midwest</td>\n",
       "      <td>Omaha</td>\n",
       "      <td>Women's Athletic Footwear</td>\n",
       "      <td>33.0</td>\n",
       "      <td>0.0</td>\n",
       "      <td>0.0</td>\n",
       "      <td>Online</td>\n",
       "      <td>Brien Boise</td>\n",
       "      <td>17</td>\n",
       "      <td>Urban</td>\n",
       "      <td>Extreme</td>\n",
       "    </tr>\n",
       "    <tr>\n",
       "      <th>4913</th>\n",
       "      <td>Foot Locker</td>\n",
       "      <td>Midwest</td>\n",
       "      <td>Omaha</td>\n",
       "      <td>Women's Athletic Footwear</td>\n",
       "      <td>27.0</td>\n",
       "      <td>0.0</td>\n",
       "      <td>0.0</td>\n",
       "      <td>Online</td>\n",
       "      <td>Roddy Speechley</td>\n",
       "      <td>9</td>\n",
       "      <td>Urban</td>\n",
       "      <td>Regular</td>\n",
       "    </tr>\n",
       "  </tbody>\n",
       "</table>\n",
       "</div>"
      ],
      "text/plain": [
       "         Retailer   Region   City                    Product  Price per Unit  \\\n",
       "1019  Foot Locker  Midwest  Omaha  Women's Athletic Footwear            35.0   \n",
       "1025  Foot Locker  Midwest  Omaha  Women's Athletic Footwear            30.0   \n",
       "4907  Foot Locker  Midwest  Omaha  Women's Athletic Footwear            33.0   \n",
       "4913  Foot Locker  Midwest  Omaha  Women's Athletic Footwear            27.0   \n",
       "\n",
       "      Units Sold  Total Sales Sales Method         Sales person  Campaign  \\\n",
       "1019         0.0          0.0       Outlet  Rafaelita Blaksland        22   \n",
       "1025         0.0          0.0       Outlet      Roddy Speechley        16   \n",
       "4907         0.0          0.0       Online          Brien Boise        17   \n",
       "4913         0.0          0.0       Online      Roddy Speechley         9   \n",
       "\n",
       "     Category       Segment  \n",
       "1019      Mix        Select  \n",
       "1025    Urban  Productivity  \n",
       "4907    Urban       Extreme  \n",
       "4913    Urban       Regular  "
      ]
     },
     "execution_count": 27,
     "metadata": {},
     "output_type": "execute_result"
    }
   ],
   "source": [
    "df[df['Total Sales'] == 0]"
   ]
  },
  {
   "cell_type": "code",
   "execution_count": null,
   "id": "19657f26",
   "metadata": {},
   "outputs": [],
   "source": []
  }
 ],
 "metadata": {
  "kernelspec": {
   "display_name": "Python 3 (ipykernel)",
   "language": "python",
   "name": "python3"
  },
  "language_info": {
   "codemirror_mode": {
    "name": "ipython",
    "version": 3
   },
   "file_extension": ".py",
   "mimetype": "text/x-python",
   "name": "python",
   "nbconvert_exporter": "python",
   "pygments_lexer": "ipython3",
   "version": "3.8.8"
  }
 },
 "nbformat": 4,
 "nbformat_minor": 5
}
